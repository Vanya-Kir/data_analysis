{
  "nbformat": 4,
  "nbformat_minor": 0,
  "metadata": {
    "colab": {
      "provenance": [],
      "authorship_tag": "ABX9TyMVXN0YzxvRrvWbbhDw/w9p",
      "include_colab_link": true
    },
    "kernelspec": {
      "name": "python3",
      "display_name": "Python 3"
    },
    "language_info": {
      "name": "python"
    }
  },
  "cells": [
    {
      "cell_type": "markdown",
      "metadata": {
        "id": "view-in-github",
        "colab_type": "text"
      },
      "source": [
        "<a href=\"https://colab.research.google.com/github/Vanya-Kir/data_analysis/blob/main/%D0%9A%D0%B8%D1%80%D0%B8%D0%BB%D0%BB%D0%BE%D0%B2_4.ipynb\" target=\"_parent\"><img src=\"https://colab.research.google.com/assets/colab-badge.svg\" alt=\"Open In Colab\"/></a>"
      ]
    },
    {
      "cell_type": "markdown",
      "source": [
        "# ЛР_4. Классификация (Байес)Задание\n",
        "**Кириллов Иван**\n",
        "\n",
        "В качестве данных возьмем датасет описание вина (Институт фармацевтики и пищевого анализ и технологий, Виа Бригата Салерно).\n",
        "\n",
        "Атрибуты датасета:\n",
        "1. Алкоголь\n",
        "2. яблочная кислота\n",
        "3. Ясень\n",
        "4. Щелочность золы\n",
        "5. Магний\n",
        "6. Всего фенолов\n",
        "7. Флавоноиды\n",
        "8. Нефлаваноидные фенолы\n",
        "9. Проантоцианы\n",
        "10. интенсивность цвета\n",
        "11. оттенок\n",
        "12. OD280/OD315 разбавленных вин\n",
        "13. Пролин"
      ],
      "metadata": {
        "id": "MMGX0raIr_nk"
      }
    },
    {
      "cell_type": "code",
      "execution_count": 26,
      "metadata": {
        "id": "r6paGoHSmeNV"
      },
      "outputs": [],
      "source": [
        "#загружаем библиотеки\n",
        "from sklearn.model_selection import train_test_split\n",
        "import numpy"
      ]
    },
    {
      "cell_type": "code",
      "source": [
        "#наивный байесовский классификатор \n",
        "class BayesClassifier:\n",
        "\n",
        "    def __init__(self, intervals_num=10, useLaPlace=False):\n",
        "        self.intervals_num = intervals_num\n",
        "        self.useLaPlace = useLaPlace\n",
        "\n",
        "    #метод для тренировки модели\n",
        "    def fit(self, Y, X):\n",
        "        self.variables_num = len(X[0])\n",
        "        self.categories = numpy.unique(Y).tolist()\n",
        "        self.categories_num = len(self.categories)\n",
        "\n",
        "        self.set_discrete_intervals(X)\n",
        "        X = self.discretize_data(X)\n",
        "\n",
        "        self.PY = []\n",
        "        self.PXY = []\n",
        "        for cat in self.categories:\n",
        "            total_counter = 0\n",
        "            for y in Y:\n",
        "                if y == cat:\n",
        "                    total_counter += 1\n",
        "\n",
        "            self.PY.append(total_counter / len(X))\n",
        "\n",
        "            self.PXY.append([])\n",
        "            for i in range(self.variables_num):\n",
        "                self.PXY[-1].append([])\n",
        "                for j in range(self.intervals_num):\n",
        "                    counter = 0\n",
        "                    for k in range(len(X)):\n",
        "                        y = Y[k]\n",
        "                        x = X[k]\n",
        "                        if y == cat and x[i] == j:\n",
        "                            counter += 1\n",
        "\n",
        "                    if self.useLaPlace:\n",
        "                        p = ((counter + 1) / (total_counter + self.intervals_num))\n",
        "                        self.PXY[-1][-1].append(p)\n",
        "                    else:\n",
        "                        self.PXY[-1][-1].append(counter / total_counter)\n",
        "\n",
        "    #метод для предсказания \n",
        "    def predict(self, x):\n",
        "        P = self.predict_proba(x)\n",
        "        max_i = 0\n",
        "        for i in range(1, self.categories_num):\n",
        "            if P[max_i] < P[i]:\n",
        "                max_i = i\n",
        "\n",
        "        return self.categories[max_i]\n",
        "\n",
        "    #метод для предсказания вероятности\n",
        "    def predict_proba(self, x):\n",
        "        x = self.discretize_data([x])[0]\n",
        "\n",
        "        P = []\n",
        "        for cat_id in range(self.categories_num):\n",
        "            p = self.PY[cat_id]\n",
        "            for i in range(self.variables_num):\n",
        "                p *= self.PXY[cat_id][i][x[i]]\n",
        "            P.append(p)\n",
        "\n",
        "        s = sum(P)\n",
        "        if s > 0:\n",
        "            for i in range(len(P)):\n",
        "                P[i] *= 1 / s\n",
        "\n",
        "        return P\n",
        "\n",
        "    #метод для дискретизации данных\n",
        "    def discretize_data(self, X):\n",
        "        X2 = []\n",
        "        for x in X:\n",
        "            x2 = []\n",
        "            for i in range(self.variables_num):\n",
        "                j = 0\n",
        "                while j < self.intervals_num and x[i] > self.intervals[i][j][1]:\n",
        "                    j += 1\n",
        "\n",
        "                if j == self.intervals_num:\n",
        "                    j -= 1\n",
        "\n",
        "                x2.append(j)\n",
        "            X2.append(x2)\n",
        "\n",
        "        return X2\n",
        "\n",
        "    #метод для установки дискретного интервала \n",
        "    def set_discrete_intervals(self, X):\n",
        "        self.intervals = []\n",
        "        for var_num in range(self.variables_num):\n",
        "\n",
        "            all_values = [x[var_num] for x in X]\n",
        "            min_value = min(all_values)\n",
        "            max_value = max(all_values)\n",
        "\n",
        "            value_span = max_value - min_value\n",
        "            interval_length = value_span / self.intervals_num\n",
        "\n",
        "            var_intervals = []\n",
        "            for i in range(self.intervals_num):\n",
        "                lower = min_value + i * interval_length\n",
        "                upper = min_value + (i + 1) * interval_length\n",
        "                var_intervals.append((lower, upper))\n",
        "\n",
        "            self.intervals.append(var_intervals)"
      ],
      "metadata": {
        "id": "DEkIK54Fmfe2"
      },
      "execution_count": 27,
      "outputs": []
    },
    {
      "cell_type": "code",
      "source": [
        "#функция для тестирования классификатора\n",
        "def test_classificator(classifier, X, Y):\n",
        "\n",
        "    correct = 0\n",
        "    for i in range(len(X)):\n",
        "        x = X[i]\n",
        "        y = Y[i]\n",
        "\n",
        "        result = classifier.predict(x)\n",
        "        if y == result:\n",
        "            correct += 1\n",
        "\n",
        "    return correct"
      ],
      "metadata": {
        "id": "JmCx8FW5mslY"
      },
      "execution_count": 28,
      "outputs": []
    },
    {
      "cell_type": "code",
      "source": [
        "#проверяем модель\n",
        "\n",
        "#путь до датасета\n",
        "DATA_FILENAME = \"/content/sample_data/wine.csv\"\n",
        "#кол-во данных для тестирования\n",
        "TRAINING_SET_SIZE = 100\n",
        "\n",
        "#считываем данные из файла\n",
        "data = numpy.genfromtxt(DATA_FILENAME, delimiter=',')"
      ],
      "metadata": {
        "id": "6LFikXuItGFR"
      },
      "execution_count": 29,
      "outputs": []
    },
    {
      "cell_type": "code",
      "source": [
        "#пример строки в датасете\n",
        "data[0]"
      ],
      "metadata": {
        "colab": {
          "base_uri": "https://localhost:8080/"
        },
        "id": "sm1I4ZLUtILV",
        "outputId": "3c8099df-4c1d-4b35-ae99-eaf1a49af2f9"
      },
      "execution_count": 30,
      "outputs": [
        {
          "output_type": "execute_result",
          "data": {
            "text/plain": [
              "array([1.000e+00, 1.423e+01, 1.710e+00, 2.430e+00, 1.560e+01, 1.270e+02,\n",
              "       2.800e+00, 3.060e+00, 2.800e-01, 2.290e+00, 5.640e+00, 1.040e+00,\n",
              "       3.920e+00, 1.065e+03])"
            ]
          },
          "metadata": {},
          "execution_count": 30
        }
      ]
    },
    {
      "cell_type": "code",
      "source": [
        "#разделяем датачет на таргет и фичи\n",
        "data_Y, data_X = numpy.hsplit(data, [1])\n",
        "\n",
        "#разделяем датасет на данные для тренеровки и тестирования\n",
        "train_Y, test_Y, train_X, test_X = train_test_split(\n",
        "    data_Y, data_X, test_size=TRAINING_SET_SIZE)\n",
        "\n",
        "#создаем экземпляр классификатора и тренируем его\n",
        "nbc = BayesClassifier(intervals_num=10, useLaPlace=False)\n",
        "nbc.fit(train_Y, train_X)\n",
        "\n",
        "#тестируем классификатор\n",
        "correct = test_classificator(nbc, test_X, test_Y)\n",
        "\n",
        "print(\"кол-во предсказаний:\", len(test_X))\n",
        "print(\"кол-во правильных предсказаний:\", correct, end='')\n",
        "print(\" (%.2f\" % (100 * correct / len(test_X)), end='')\n",
        "print(\"%)\")"
      ],
      "metadata": {
        "colab": {
          "base_uri": "https://localhost:8080/"
        },
        "id": "VLmZAga6mwah",
        "outputId": "c6f72b4a-ae2d-4c15-cbee-5f3f223d006d"
      },
      "execution_count": 36,
      "outputs": [
        {
          "output_type": "stream",
          "name": "stdout",
          "text": [
            "кол-во предсказаний: 100\n",
            "кол-во правильных предсказаний: 75 (75.00%)\n"
          ]
        }
      ]
    }
  ]
}